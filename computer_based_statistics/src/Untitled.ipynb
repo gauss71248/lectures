{
 "cells": [
  {
   "cell_type": "code",
   "execution_count": 1,
   "id": "55ca8294-c489-49d8-92ab-4e3033497e5d",
   "metadata": {},
   "outputs": [
    {
     "data": {
      "text/plain": [
       "3"
      ]
     },
     "execution_count": 1,
     "metadata": {},
     "output_type": "execute_result"
    }
   ],
   "source": [
    "1+2"
   ]
  },
  {
   "cell_type": "code",
   "execution_count": 2,
   "id": "2e5c924f-749f-4694-9fed-4e9588dc08e7",
   "metadata": {},
   "outputs": [
    {
     "data": {
      "text/plain": [
       "11"
      ]
     },
     "execution_count": 2,
     "metadata": {},
     "output_type": "execute_result"
    }
   ],
   "source": [
    "5+6"
   ]
  },
  {
   "cell_type": "code",
   "execution_count": 3,
   "id": "cae518d8-aef4-4e07-b2f5-d3be85101f92",
   "metadata": {},
   "outputs": [
    {
     "data": {
      "text/plain": [
       "int"
      ]
     },
     "execution_count": 3,
     "metadata": {},
     "output_type": "execute_result"
    }
   ],
   "source": [
    "type(5)"
   ]
  },
  {
   "cell_type": "code",
   "execution_count": 4,
   "id": "fcbcc0da-c59d-42e9-8609-232d575c672f",
   "metadata": {},
   "outputs": [
    {
     "data": {
      "text/plain": [
       "float"
      ]
     },
     "execution_count": 4,
     "metadata": {},
     "output_type": "execute_result"
    }
   ],
   "source": [
    "type(5.6)"
   ]
  },
  {
   "cell_type": "code",
   "execution_count": 7,
   "id": "8347abcb-156c-4dc3-b91c-2a5bf0fa0b38",
   "metadata": {},
   "outputs": [
    {
     "data": {
      "text/plain": [
       "[1, 2, 3, 34, 45, 3, 5, 8]"
      ]
     },
     "execution_count": 7,
     "metadata": {},
     "output_type": "execute_result"
    }
   ],
   "source": [
    "l = [1,2,3,34,45,3,5,8]\n",
    "l"
   ]
  },
  {
   "cell_type": "code",
   "execution_count": 12,
   "id": "bfd852b9-0c1d-44fc-8063-43ab23b49488",
   "metadata": {},
   "outputs": [
    {
     "data": {
      "text/plain": [
       "['Kurs A', 'Kurs B']"
      ]
     },
     "execution_count": 12,
     "metadata": {},
     "output_type": "execute_result"
    }
   ],
   "source": [
    "l2 = [\"Kurs A\", 'Kurs B']\n",
    "l2"
   ]
  },
  {
   "cell_type": "code",
   "execution_count": 11,
   "id": "c8c801cf-785e-4247-98d9-1869f09fd348",
   "metadata": {},
   "outputs": [
    {
     "data": {
      "text/plain": [
       "str"
      ]
     },
     "execution_count": 11,
     "metadata": {},
     "output_type": "execute_result"
    }
   ],
   "source": [
    "type('Kurs A')"
   ]
  },
  {
   "cell_type": "code",
   "execution_count": 15,
   "id": "2dbac351-e4cc-4a07-b680-6848ef1171c4",
   "metadata": {},
   "outputs": [
    {
     "data": {
      "text/plain": [
       "[9, 1156, 2025, 9, 25, 64]"
      ]
     },
     "execution_count": 15,
     "metadata": {},
     "output_type": "execute_result"
    }
   ],
   "source": [
    "[x*x for x in l if x>2]"
   ]
  },
  {
   "cell_type": "code",
   "execution_count": 17,
   "id": "0ea2c93e-298f-4d01-979a-a8402a4b535f",
   "metadata": {},
   "outputs": [
    {
     "data": {
      "text/plain": [
       "[9, 1156, 2025, 9, 25, 64]"
      ]
     },
     "execution_count": 17,
     "metadata": {},
     "output_type": "execute_result"
    }
   ],
   "source": [
    "result = []\n",
    "for x in l:\n",
    "    if x>2:\n",
    "        result.append(x*x)\n",
    "    \n",
    "result"
   ]
  },
  {
   "cell_type": "code",
   "execution_count": 19,
   "id": "377f4ed2-745f-498f-8fae-aaf8964c2212",
   "metadata": {},
   "outputs": [
    {
     "data": {
      "text/plain": [
       "[1, 4, 9, 1156, 2025, 9, 25, 64]"
      ]
     },
     "execution_count": 19,
     "metadata": {},
     "output_type": "execute_result"
    }
   ],
   "source": [
    "def square(l):\n",
    "    return [x*x for x in l]\n",
    "square(l)"
   ]
  },
  {
   "cell_type": "code",
   "execution_count": null,
   "id": "d9656e79-bb90-45b2-82fa-08e9a810b0d1",
   "metadata": {},
   "outputs": [],
   "source": []
  }
 ],
 "metadata": {
  "kernelspec": {
   "display_name": "Python 3 (ipykernel)",
   "language": "python",
   "name": "python3"
  },
  "language_info": {
   "codemirror_mode": {
    "name": "ipython",
    "version": 3
   },
   "file_extension": ".py",
   "mimetype": "text/x-python",
   "name": "python",
   "nbconvert_exporter": "python",
   "pygments_lexer": "ipython3",
   "version": "3.10.4"
  }
 },
 "nbformat": 4,
 "nbformat_minor": 5
}
