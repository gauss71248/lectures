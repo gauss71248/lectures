{
 "cells": [
  {
   "cell_type": "code",
   "execution_count": 25,
   "id": "b281d818-95e6-4d71-b503-df3fb605af3c",
   "metadata": {},
   "outputs": [
    {
     "data": {
      "text/plain": [
       "True"
      ]
     },
     "execution_count": 25,
     "metadata": {},
     "output_type": "execute_result"
    }
   ],
   "source": [
    "l = list(range(1,11))\n",
    "l2 = [x^2 for x in l if x%2 == 0]\n",
    "l3 = []\n",
    "for x in l:\n",
    "    if x%2 == 0:\n",
    "       l3.append(x^2)\n",
    "l2 == l3"
   ]
  },
  {
   "cell_type": "code",
   "execution_count": 29,
   "id": "ef2e16b3-774e-4963-8ea5-a499b4aebba3",
   "metadata": {},
   "outputs": [
    {
     "data": {
      "text/plain": [
       "['key1', 'key2', 'key3']"
      ]
     },
     "execution_count": 29,
     "metadata": {},
     "output_type": "execute_result"
    }
   ],
   "source": [
    "d = {\n",
    "    'key1': 1,\n",
    "    'key2': 2,\n",
    "    'key3': 3\n",
    "}\n",
    "list(d.keys())"
   ]
  },
  {
   "cell_type": "code",
   "execution_count": 30,
   "id": "cc081a61-c2c3-4cfe-9c31-9dff85b39f59",
   "metadata": {},
   "outputs": [
    {
     "data": {
      "text/plain": [
       "[1, 2, 3]"
      ]
     },
     "execution_count": 30,
     "metadata": {},
     "output_type": "execute_result"
    }
   ],
   "source": [
    "list(d.values())"
   ]
  },
  {
   "cell_type": "code",
   "execution_count": 32,
   "id": "848effc3-6db4-4687-b07b-44314b6bf190",
   "metadata": {},
   "outputs": [
    {
     "name": "stdout",
     "output_type": "stream",
     "text": [
      "1\n",
      "2\n",
      "3\n"
     ]
    }
   ],
   "source": [
    "for x in d.keys():\n",
    "    print(d[x])"
   ]
  },
  {
   "cell_type": "code",
   "execution_count": 35,
   "id": "5cbe195e-936f-4b87-a3e9-7414a5cfb7e6",
   "metadata": {},
   "outputs": [
    {
     "name": "stdout",
     "output_type": "stream",
     "text": [
      "key1 |-> 0\n",
      "key2 |-> 1\n",
      "key3 |-> 2\n"
     ]
    }
   ],
   "source": [
    "for elem, key in enumerate(d):\n",
    "    print(f\"{key} |-> {elem}\")"
   ]
  },
  {
   "cell_type": "code",
   "execution_count": 15,
   "id": "c3bfb78d-49a7-41f4-9b3d-d66b61e6d68f",
   "metadata": {},
   "outputs": [
    {
     "name": "stdout",
     "output_type": "stream",
     "text": [
      "Test for <function twoSum_1 at 0x10a080f40> with list [2, 7, 11, 15], target 9, expected result: [0, 1]: pass\n",
      "Test for <function twoSum_1 at 0x10a080f40> with list [3, 2, 4], target 6, expected result: [1, 2]: pass\n",
      "Test for <function twoSum_2 at 0x10a2ec720> with list [2, 7, 11, 15], target 9, expected result: [0, 1]: pass\n",
      "Test for <function twoSum_2 at 0x10a2ec720> with list [3, 2, 4], target 6, expected result: [1, 2]: pass\n",
      "Test for <function twoSum_3 at 0x10a2ec540> with list [2, 7, 11, 15], target 9, expected result: [0, 1]: pass\n",
      "Test for <function twoSum_3 at 0x10a2ec540> with list [3, 2, 4], target 6, expected result: [1, 2]: pass\n"
     ]
    }
   ],
   "source": [
    "def twoSum_1(nums: list[int], target: int) -> list[int]:\n",
    "    for i,elem1 in enumerate(nums):\n",
    "        for j, elem2 in enumerate(nums):\n",
    "            if i!=j and elem1+elem2 == target:\n",
    "                return [i,j]\n",
    "def twoSum_2(nums: list[int], target: int) -> list[int]:\n",
    "    for i,elem in enumerate(nums):\n",
    "        try:\n",
    "            j=nums.index(target-elem)\n",
    "            if i != j:\n",
    "                return [i,j]\n",
    "        except:\n",
    "            continue\n",
    "\n",
    "def twoSum_3(nums: list[int], target: int) -> list[int]:\n",
    "    for i,elem in enumerate(nums):\n",
    "        try:\n",
    "            j=nums.index(target-elem)\n",
    "            if i != j:\n",
    "                return [i,j]\n",
    "        except:\n",
    "            continue\n",
    "test_cases = [\n",
    "            ([2,7,11,15],9,[0,1]),\n",
    "            ([3,2,4],6,[1,2]),\n",
    "        ]\n",
    "algorithms = [twoSum_1, twoSum_2, twoSum_3]\n",
    "def test(algorithms, test_cases):\n",
    "    for solution in algorithms:\n",
    "        for num_list, target, expected_result in test_cases:\n",
    "            print(f\"Test for {solution} with list {num_list}, target {target}, expected result: {expected_result}: {'pass' if solution(num_list,target)==expected_result else 'fail'}\")\n",
    "test(algorithms, test_cases)"
   ]
  },
  {
   "cell_type": "code",
   "execution_count": 18,
   "id": "0532db74-ee87-49ab-bfff-e52667b872b3",
   "metadata": {},
   "outputs": [
    {
     "name": "stdout",
     "output_type": "stream",
     "text": [
      "False\n",
      "True\n"
     ]
    }
   ],
   "source": [
    "def containsDuplicate(nums: list[int]) -> bool:\n",
    "    return len(set(nums))!=len(nums)\n",
    "l1 = [1,2,3,4,5,6]\n",
    "l2 = [1,2,2,3,4,5,6]\n",
    "print(containsDuplicate(l1))\n",
    "print(containsDuplicate(l2))"
   ]
  },
  {
   "cell_type": "code",
   "execution_count": null,
   "id": "157fa1f1-122c-41ab-aa93-34b05dc1fc82",
   "metadata": {},
   "outputs": [],
   "source": []
  }
 ],
 "metadata": {
  "kernelspec": {
   "display_name": "Python 3 (ipykernel)",
   "language": "python",
   "name": "python3"
  },
  "language_info": {
   "codemirror_mode": {
    "name": "ipython",
    "version": 3
   },
   "file_extension": ".py",
   "mimetype": "text/x-python",
   "name": "python",
   "nbconvert_exporter": "python",
   "pygments_lexer": "ipython3",
   "version": "3.11.4"
  }
 },
 "nbformat": 4,
 "nbformat_minor": 5
}
